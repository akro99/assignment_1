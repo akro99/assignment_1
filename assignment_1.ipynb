{
 "cells": [
  {
   "cell_type": "code",
   "execution_count": 178,
   "id": "860aa61e",
   "metadata": {},
   "outputs": [
    {
     "name": "stdout",
     "output_type": "stream",
     "text": [
      "Enter hrs spent on Task 1 in Week 1:14\n",
      "Enter hrs spent on Task 2 in Week 1:7\n",
      "Enter hrs spent on Task 3 in Week 1:6\n",
      "Enter hrs spent on Task 1 in Week 2:12\n",
      "Enter hrs spent on Task 2 in Week 2:9\n",
      "Enter hrs spent on Task 3 in Week 2:5\n",
      "Enter hrs spent on Task 1 in Week 3:13\n",
      "Enter hrs spent on Task 2 in Week 3:12\n",
      "Enter hrs spent on Task 3 in Week 3:3\n",
      "Enter hrs spent on Task 1 in Week 4:14\n",
      "Enter hrs spent on Task 2 in Week 4:10\n",
      "Enter hrs spent on Task 3 in Week 4:8\n",
      "[{'Week': 'Week 1', 'Task 1': '14', 'Task 2': '7', 'Task 3': '6'}, {'Week': 'Week 2', 'Task 1': '12', 'Task 2': '9', 'Task 3': '5'}, {'Week': 'Week 3', 'Task 1': '13', 'Task 2': '12', 'Task 3': '3'}, {'Week': 'Week 4', 'Task 1': '14', 'Task 2': '10', 'Task 3': '8'}]\n"
     ]
    },
    {
     "data": {
      "text/html": [
       "<div>\n",
       "<style scoped>\n",
       "    .dataframe tbody tr th:only-of-type {\n",
       "        vertical-align: middle;\n",
       "    }\n",
       "\n",
       "    .dataframe tbody tr th {\n",
       "        vertical-align: top;\n",
       "    }\n",
       "\n",
       "    .dataframe thead th {\n",
       "        text-align: right;\n",
       "    }\n",
       "</style>\n",
       "<table border=\"1\" class=\"dataframe\">\n",
       "  <thead>\n",
       "    <tr style=\"text-align: right;\">\n",
       "      <th></th>\n",
       "      <th>Week</th>\n",
       "      <th>Task 1</th>\n",
       "      <th>Task 2</th>\n",
       "      <th>Task 3</th>\n",
       "    </tr>\n",
       "  </thead>\n",
       "  <tbody>\n",
       "    <tr>\n",
       "      <th>0</th>\n",
       "      <td>Week 1</td>\n",
       "      <td>14</td>\n",
       "      <td>7</td>\n",
       "      <td>6</td>\n",
       "    </tr>\n",
       "    <tr>\n",
       "      <th>1</th>\n",
       "      <td>Week 2</td>\n",
       "      <td>12</td>\n",
       "      <td>9</td>\n",
       "      <td>5</td>\n",
       "    </tr>\n",
       "    <tr>\n",
       "      <th>2</th>\n",
       "      <td>Week 3</td>\n",
       "      <td>13</td>\n",
       "      <td>12</td>\n",
       "      <td>3</td>\n",
       "    </tr>\n",
       "    <tr>\n",
       "      <th>3</th>\n",
       "      <td>Week 4</td>\n",
       "      <td>14</td>\n",
       "      <td>10</td>\n",
       "      <td>8</td>\n",
       "    </tr>\n",
       "  </tbody>\n",
       "</table>\n",
       "</div>"
      ],
      "text/plain": [
       "     Week Task 1 Task 2 Task 3\n",
       "0  Week 1     14      7      6\n",
       "1  Week 2     12      9      5\n",
       "2  Week 3     13     12      3\n",
       "3  Week 4     14     10      8"
      ]
     },
     "execution_count": 178,
     "metadata": {},
     "output_type": "execute_result"
    }
   ],
   "source": [
    "import pandas as pd\n",
    "week_of_month=[\"Week 1\", \"Week 2\",\"Week 3\",\"Week 4\"]\n",
    "TaskHrs=[]\n",
    "for i in week_of_month:\n",
    "    T1=input(\"Enter hrs spent on Task 1 in \"+i+\":\")\n",
    "    T2=input(\"Enter hrs spent on Task 2 in \"+i+\":\")\n",
    "    T3=input(\"Enter hrs spent on Task 3 in \"+i+\":\")\n",
    "    TaskHrs.append({\"Week\":i,\"Task 1\":T1,\"Task 2\":T2,\"Task 3\":T3})\n",
    "print(TaskHrs)\n",
    "df=pd.DataFrame(TaskHrs)\n",
    "df.to_csv(\"TaskHrs.csv\",mode=\"w\",index=False)\n",
    "df"
   ]
  },
  {
   "cell_type": "code",
   "execution_count": null,
   "id": "8ccd3949",
   "metadata": {},
   "outputs": [],
   "source": []
  },
  {
   "cell_type": "code",
   "execution_count": 177,
   "id": "aeaaa0c9",
   "metadata": {},
   "outputs": [
    {
     "name": "stdout",
     "output_type": "stream",
     "text": [
      "Hours List: \n",
      " [['Week 1', 14, 7, 6], ['Week 2', 12, 9, 5], ['Week 3', 13, 12, 3], ['Week 4', 14, 10, 8]] \n",
      "\n"
     ]
    },
    {
     "data": {
      "image/png": "[encoded data removed]",
      "text/plain": [
       "<Figure size 432x288 with 1 Axes>"
      ]
     },
     "metadata": {
      "needs_background": "light"
     },
     "output_type": "display_data"
    }
   ],
   "source": [
    "import pandas as pd\n",
    "from matplotlib import pyplot as plt\n",
    "df=pd.read_csv(\"TaskHrs.csv\")\n",
    "df\n",
    "hrs=df.values.tolist()\n",
    "print(\"Hours List:\",\"\\n\",hrs,\"\\n\")\n",
    "\n",
    "Task_1=[]\n",
    "Task_2=[]\n",
    "Task_3=[]\n",
    "total_hrs=[0,0,0,0]\n",
    "avg_hrs=[0,0,0,0]\n",
    "\n",
    "for i in hrs:\n",
    "    Task_1.append(i[1])\n",
    "    Task_2.append(i[2])\n",
    "    Task_3.append(i[3])\n",
    "\n",
    "def compute_total(hrs,total_hrs):\n",
    "    for i in range(0,4):\n",
    "        for j in range(1,4):\n",
    "            total_hrs[i]=total_hrs[i]+float(hrs[i][j])\n",
    "    return total_hrs\n",
    "\n",
    "def compute_avg(total_hrs):\n",
    "    for i in range(0,4):\n",
    "        avg_hrs[i]=round((total_hrs[i]/3),2)\n",
    "    return avg_hrs\n",
    "\n",
    "compute_total(hrs,total_hrs)\n",
    "compute_avg(total_hrs)\n",
    "\n",
    "plt.plot(week_of_month,Task_1,color=\"red\",marker=\"o\")\n",
    "plt.plot(week_of_month,Task_2,color=\"#FFD700\",marker=\"o\")\n",
    "plt.plot(week_of_month,Task_3,color=\"blue\",marker=\"o\")\n",
    "plt.plot(week_of_month,avg_hrs,color=\"black\",linestyle=\"--\")\n",
    "plt.legend([\"Task 1\",\"Task 2\",\"Task 3\",\"Average\"])\n",
    "plt.xlabel(\"Week of Month\")\n",
    "plt.ylabel(\"Hours\")\n",
    "plt.title(\"Learning Progress Per Week\")\n",
    "plt.show()"
   ]
  },
  {
   "cell_type": "code",
   "execution_count": null,
   "id": "ac0110ab",
   "metadata": {},
   "outputs": [],
   "source": []
  }
 ],
 "metadata": {
  "kernelspec": {
   "display_name": "Python 3",
   "language": "python",
   "name": "python3"
  },
  "language_info": {
   "codemirror_mode": {
    "name": "ipython",
    "version": 3
   },
   "file_extension": ".py",
   "mimetype": "text/x-python",
   "name": "python",
   "nbconvert_exporter": "python",
   "pygments_lexer": "ipython3",
   "version": "3.8.8"
  }
 },
 "nbformat": 4,
 "nbformat_minor": 5
}
